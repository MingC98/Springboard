{
 "cells": [
  {
   "cell_type": "code",
   "execution_count": 4,
   "id": "17e67740",
   "metadata": {},
   "outputs": [
    {
     "name": "stdout",
     "output_type": "stream",
     "text": [
      "2.6.0\n",
      "2. Query all tasks\n",
      "('Badminton Court', 0)\n",
      "('Massage Room 1', 299.3999999999999)\n",
      "('Massage Room 2', 89.9)\n",
      "('Pool Table', 0)\n",
      "('Snooker Table', 0)\n",
      "('Squash Court', 66.5)\n",
      "('Table Tennis', 0)\n",
      "('Tennis Court 1', 75)\n",
      "('Tennis Court 2', 60)\n"
     ]
    }
   ],
   "source": [
    "import sqlite3\n",
    "from sqlite3 import Error\n",
    "\n",
    " \n",
    "def create_connection(db_file):\n",
    "    \"\"\" create a database connection to the SQLite database\n",
    "        specified by the db_file\n",
    "    :param db_file: database file\n",
    "    :return: Connection object or None\n",
    "    \"\"\"\n",
    "    conn = None\n",
    "    try:\n",
    "        conn = sqlite3.connect(db_file)\n",
    "        print(sqlite3.version)\n",
    "    except Error as e:\n",
    "        print(e)\n",
    " \n",
    "    return conn\n",
    "\n",
    " \n",
    "def select_all_tasks(conn):\n",
    "    \"\"\"\n",
    "    Query all rows in the tasks table\n",
    "    :param conn: the Connection object\n",
    "    :return:\n",
    "    \"\"\"\n",
    "    cur = conn.cursor()\n",
    "    \n",
    "    query1 = \"\"\"\n",
    "        SELECT facility_name,SUM(cost) AS revenue\n",
    "            FROM(\n",
    "                SELECT f.name AS facility_name, m.firstname||' '||m.surname AS member_name,\n",
    "                    CASE WHEN m.memid = 0 THEN f.guestcost\n",
    "                    ELSE f.membercost\n",
    "                    END as cost\n",
    "                FROM Bookings b\n",
    "                JOIN Facilities f ON f.facid = b.facid\n",
    "                JOIN Members m ON m.memid = b.memid\n",
    "                WHERE b.starttime LIKE'2012-09-14%'\n",
    "                ORDER BY cost DESC\n",
    "            ) t1\n",
    "            GROUP BY facility_name\n",
    "            HAVING revenue < 1000\n",
    "        \"\"\"\n",
    "    cur.execute(query1)\n",
    " \n",
    "    rows = cur.fetchall()\n",
    " \n",
    "    for row in rows:\n",
    "        print(row)\n",
    "\n",
    "\n",
    "def main():\n",
    "    database = \"sqlite_db_pythonsqlite.db\"\n",
    " \n",
    "    # create a database connection\n",
    "    conn = create_connection(database)\n",
    "    with conn: \n",
    "        print(\"2. Query all tasks\")\n",
    "        select_all_tasks(conn)\n",
    " \n",
    " \n",
    "if __name__ == '__main__':\n",
    "    main()"
   ]
  },
  {
   "cell_type": "code",
   "execution_count": null,
   "id": "2936bc00",
   "metadata": {},
   "outputs": [],
   "source": []
  }
 ],
 "metadata": {
  "kernelspec": {
   "display_name": "Python 3",
   "language": "python",
   "name": "python3"
  },
  "language_info": {
   "codemirror_mode": {
    "name": "ipython",
    "version": 3
   },
   "file_extension": ".py",
   "mimetype": "text/x-python",
   "name": "python",
   "nbconvert_exporter": "python",
   "pygments_lexer": "ipython3",
   "version": "3.8.8"
  }
 },
 "nbformat": 4,
 "nbformat_minor": 5
}
